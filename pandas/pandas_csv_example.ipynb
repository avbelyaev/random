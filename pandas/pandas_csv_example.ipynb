{
  "nbformat": 4,
  "nbformat_minor": 0,
  "metadata": {
    "colab": {
      "provenance": []
    },
    "kernelspec": {
      "name": "python3",
      "display_name": "Python 3"
    },
    "language_info": {
      "name": "python"
    }
  },
  "cells": [
    {
      "cell_type": "markdown",
      "source": [
        "# Import libraries\n",
        "- `pandas` to process data\n",
        "- `os` to access folders and files"
      ],
      "metadata": {
        "id": "_s28ahjS1HMh"
      }
    },
    {
      "cell_type": "code",
      "source": [
        "import pandas as pd\n",
        "import os"
      ],
      "metadata": {
        "id": "a9P8vtqbzWjA"
      },
      "execution_count": 2,
      "outputs": []
    },
    {
      "cell_type": "markdown",
      "source": [
        "# Read CSVs\n",
        "- list all filenames in folder `./input`\n",
        "  - if it's a CSV file, read it\n",
        "  - leave only washing machines\n",
        "  - count such rows and count mean value"
      ],
      "metadata": {
        "id": "D02MVmOKRxe1"
      }
    },
    {
      "cell_type": "code",
      "source": [
        "count = 0\n",
        "overall_cost = 0\n",
        "\n",
        "for filename in os.listdir('./input'):\n",
        "  if filename.endswith('.csv'):\n",
        "    print('processing file ' + filename)\n",
        "\n",
        "    items = pd.read_csv('./input/' + filename)\n",
        "\n",
        "    # leave only rows that have `productgroup == WASHINGMACHINES`\n",
        "    machines = items[items.productgroup == 'WASHINGMACHINES']\n",
        "\n",
        "    count += len(machines)             # number of such rows\n",
        "    overall_cost += sum(machines.cost) # summ all costs in current file\n",
        "\n",
        "\n",
        "# find overall average among all files\n",
        "avg_cost = overall_cost // count"
      ],
      "metadata": {
        "colab": {
          "base_uri": "https://localhost:8080/"
        },
        "id": "vaaWSX-zEmQx",
        "outputId": "9d3b92e8-73d1-4728-b31e-18ed209f3a4f"
      },
      "execution_count": 26,
      "outputs": [
        {
          "output_type": "stream",
          "name": "stdout",
          "text": [
            "processing file items2.csv\n",
            "processing file items1.csv\n",
            "processing file items3.csv\n"
          ]
        }
      ]
    },
    {
      "cell_type": "code",
      "source": [
        "print(f'machine count: {count}')\n",
        "print(f'avg cost: {avg_cost}')"
      ],
      "metadata": {
        "colab": {
          "base_uri": "https://localhost:8080/"
        },
        "id": "Z_AYkHnqJQKz",
        "outputId": "95ce21f1-4bda-41fc-e0be-40026448b07a"
      },
      "execution_count": 27,
      "outputs": [
        {
          "output_type": "stream",
          "name": "stdout",
          "text": [
            "machine count: 75\n",
            "avg cost: 146\n"
          ]
        }
      ]
    },
    {
      "cell_type": "markdown",
      "source": [
        "# Write Excel\n",
        "- create 3 columns - 'category', 'cnt', 'avg_cost'\n",
        "- insert row - Machines and it's count, USBs and it's count"
      ],
      "metadata": {
        "id": "PJSYAHQsS3Qt"
      }
    },
    {
      "cell_type": "code",
      "source": [
        "rows = [\n",
        "    ['Machines', count, avg_cost]\n",
        "]\n",
        "output = pd.DataFrame(rows, columns=['category', 'cnt', 'avg_cost'])\n",
        "output.to_excel('./machines.xlsx', index=False)"
      ],
      "metadata": {
        "id": "pFVBhaPlJzXD"
      },
      "execution_count": 28,
      "outputs": []
    },
    {
      "cell_type": "markdown",
      "source": [
        "# Send email\n",
        "- Read Excel file we've jst created\n",
        "- Send data as email (over Gmail)"
      ],
      "metadata": {
        "id": "MDIFj59GLy3p"
      }
    },
    {
      "cell_type": "code",
      "source": [
        "machines = pd.read_excel('machines.xlsx')\n",
        "machines.head()"
      ],
      "metadata": {
        "colab": {
          "base_uri": "https://localhost:8080/",
          "height": 81
        },
        "id": "szNDFsFZRXa7",
        "outputId": "5dbc4c57-98a5-4a36-8cdb-caeff4eafc3f"
      },
      "execution_count": 29,
      "outputs": [
        {
          "output_type": "execute_result",
          "data": {
            "text/plain": [
              "   category  cnt  avg_cost\n",
              "0  Machines   75       146"
            ],
            "text/html": [
              "\n",
              "  <div id=\"df-5d7490c2-b7d1-4b3b-a302-f8ef295e45ed\">\n",
              "    <div class=\"colab-df-container\">\n",
              "      <div>\n",
              "<style scoped>\n",
              "    .dataframe tbody tr th:only-of-type {\n",
              "        vertical-align: middle;\n",
              "    }\n",
              "\n",
              "    .dataframe tbody tr th {\n",
              "        vertical-align: top;\n",
              "    }\n",
              "\n",
              "    .dataframe thead th {\n",
              "        text-align: right;\n",
              "    }\n",
              "</style>\n",
              "<table border=\"1\" class=\"dataframe\">\n",
              "  <thead>\n",
              "    <tr style=\"text-align: right;\">\n",
              "      <th></th>\n",
              "      <th>category</th>\n",
              "      <th>cnt</th>\n",
              "      <th>avg_cost</th>\n",
              "    </tr>\n",
              "  </thead>\n",
              "  <tbody>\n",
              "    <tr>\n",
              "      <th>0</th>\n",
              "      <td>Machines</td>\n",
              "      <td>75</td>\n",
              "      <td>146</td>\n",
              "    </tr>\n",
              "  </tbody>\n",
              "</table>\n",
              "</div>\n",
              "      <button class=\"colab-df-convert\" onclick=\"convertToInteractive('df-5d7490c2-b7d1-4b3b-a302-f8ef295e45ed')\"\n",
              "              title=\"Convert this dataframe to an interactive table.\"\n",
              "              style=\"display:none;\">\n",
              "        \n",
              "  <svg xmlns=\"http://www.w3.org/2000/svg\" height=\"24px\"viewBox=\"0 0 24 24\"\n",
              "       width=\"24px\">\n",
              "    <path d=\"M0 0h24v24H0V0z\" fill=\"none\"/>\n",
              "    <path d=\"M18.56 5.44l.94 2.06.94-2.06 2.06-.94-2.06-.94-.94-2.06-.94 2.06-2.06.94zm-11 1L8.5 8.5l.94-2.06 2.06-.94-2.06-.94L8.5 2.5l-.94 2.06-2.06.94zm10 10l.94 2.06.94-2.06 2.06-.94-2.06-.94-.94-2.06-.94 2.06-2.06.94z\"/><path d=\"M17.41 7.96l-1.37-1.37c-.4-.4-.92-.59-1.43-.59-.52 0-1.04.2-1.43.59L10.3 9.45l-7.72 7.72c-.78.78-.78 2.05 0 2.83L4 21.41c.39.39.9.59 1.41.59.51 0 1.02-.2 1.41-.59l7.78-7.78 2.81-2.81c.8-.78.8-2.07 0-2.86zM5.41 20L4 18.59l7.72-7.72 1.47 1.35L5.41 20z\"/>\n",
              "  </svg>\n",
              "      </button>\n",
              "      \n",
              "  <style>\n",
              "    .colab-df-container {\n",
              "      display:flex;\n",
              "      flex-wrap:wrap;\n",
              "      gap: 12px;\n",
              "    }\n",
              "\n",
              "    .colab-df-convert {\n",
              "      background-color: #E8F0FE;\n",
              "      border: none;\n",
              "      border-radius: 50%;\n",
              "      cursor: pointer;\n",
              "      display: none;\n",
              "      fill: #1967D2;\n",
              "      height: 32px;\n",
              "      padding: 0 0 0 0;\n",
              "      width: 32px;\n",
              "    }\n",
              "\n",
              "    .colab-df-convert:hover {\n",
              "      background-color: #E2EBFA;\n",
              "      box-shadow: 0px 1px 2px rgba(60, 64, 67, 0.3), 0px 1px 3px 1px rgba(60, 64, 67, 0.15);\n",
              "      fill: #174EA6;\n",
              "    }\n",
              "\n",
              "    [theme=dark] .colab-df-convert {\n",
              "      background-color: #3B4455;\n",
              "      fill: #D2E3FC;\n",
              "    }\n",
              "\n",
              "    [theme=dark] .colab-df-convert:hover {\n",
              "      background-color: #434B5C;\n",
              "      box-shadow: 0px 1px 3px 1px rgba(0, 0, 0, 0.15);\n",
              "      filter: drop-shadow(0px 1px 2px rgba(0, 0, 0, 0.3));\n",
              "      fill: #FFFFFF;\n",
              "    }\n",
              "  </style>\n",
              "\n",
              "      <script>\n",
              "        const buttonEl =\n",
              "          document.querySelector('#df-5d7490c2-b7d1-4b3b-a302-f8ef295e45ed button.colab-df-convert');\n",
              "        buttonEl.style.display =\n",
              "          google.colab.kernel.accessAllowed ? 'block' : 'none';\n",
              "\n",
              "        async function convertToInteractive(key) {\n",
              "          const element = document.querySelector('#df-5d7490c2-b7d1-4b3b-a302-f8ef295e45ed');\n",
              "          const dataTable =\n",
              "            await google.colab.kernel.invokeFunction('convertToInteractive',\n",
              "                                                     [key], {});\n",
              "          if (!dataTable) return;\n",
              "\n",
              "          const docLinkHtml = 'Like what you see? Visit the ' +\n",
              "            '<a target=\"_blank\" href=https://colab.research.google.com/notebooks/data_table.ipynb>data table notebook</a>'\n",
              "            + ' to learn more about interactive tables.';\n",
              "          element.innerHTML = '';\n",
              "          dataTable['output_type'] = 'display_data';\n",
              "          await google.colab.output.renderOutput(dataTable, element);\n",
              "          const docLink = document.createElement('div');\n",
              "          docLink.innerHTML = docLinkHtml;\n",
              "          element.appendChild(docLink);\n",
              "        }\n",
              "      </script>\n",
              "    </div>\n",
              "  </div>\n",
              "  "
            ]
          },
          "metadata": {},
          "execution_count": 29
        }
      ]
    },
    {
      "cell_type": "code",
      "source": [
        "import smtplib\n",
        "\n",
        "fromaddr = 'anthony@gmail.com'\n",
        "toaddrs  = 'john.doe@gmail.com'\n",
        "email = f'''\n",
        "We have the following inventory in the warehouse:\n",
        "\n",
        "Machines: \n",
        "- count: {int(machines[machines.category == 'Machines'].cnt)}\n",
        "- average cost: ${int(machines[machines.category == 'Machines'].avg_cost)}\n",
        "\n",
        "Yours, ACME\n",
        "'''\n",
        "\n",
        "server = smtplib.SMTP('smtp.gmail.com:587')\n",
        "server.starttls()\n",
        "server.login('username@gmail.com', 'password')\n",
        "server.sendmail(fromaddr, toaddrs, msg)\n",
        "server.quit()"
      ],
      "metadata": {
        "id": "debKKoU4LyIO"
      },
      "execution_count": 19,
      "outputs": []
    },
    {
      "cell_type": "code",
      "source": [
        "print(email)"
      ],
      "metadata": {
        "colab": {
          "base_uri": "https://localhost:8080/"
        },
        "id": "B2L3330T6ti9",
        "outputId": "e54cfc10-84d1-42bc-89fd-6241d216c3a6"
      },
      "execution_count": 20,
      "outputs": [
        {
          "output_type": "stream",
          "name": "stdout",
          "text": [
            "\n",
            "We have the following inventory in the warehouse:\n",
            "\n",
            "Machines: \n",
            "- count: 75\n",
            "- average cost: $146\n",
            "\n",
            "Yours, ACME\n",
            "\n"
          ]
        }
      ]
    }
  ]
}