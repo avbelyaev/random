{
  "nbformat": 4,
  "nbformat_minor": 0,
  "metadata": {
    "colab": {
      "provenance": []
    },
    "kernelspec": {
      "name": "python3",
      "display_name": "Python 3"
    },
    "language_info": {
      "name": "python"
    }
  },
  "cells": [
    {
      "cell_type": "markdown",
      "source": [
        "# Read CSVs\n",
        "- list all files in folder `./input`\n",
        "- if it's a CSV file, read it\n",
        "- read rows having column 'productgroup' equal to 'WASHINGMACHINES' or 'USB MEMORY'\n",
        "- count such rows with `len(...)`"
      ],
      "metadata": {
        "id": "D02MVmOKRxe1"
      }
    },
    {
      "cell_type": "code",
      "source": [
        "washing_machines_count = 0\n",
        "usb_memory_count = 0\n",
        "\n",
        "for file in os.listdir('./input'):\n",
        "  if file.endswith('.csv'):\n",
        "    print('processing ' + file)\n",
        "\n",
        "    items = pd.read_csv('./input/' + file)\n",
        "\n",
        "    washing_machines_count += len(items[items.productgroup == 'WASHINGMACHINES'])\n",
        "    usb_memory_count += len(items[items.productgroup == 'USB MEMORY'])"
      ],
      "metadata": {
        "colab": {
          "base_uri": "https://localhost:8080/"
        },
        "id": "vaaWSX-zEmQx",
        "outputId": "c5b640a2-449f-4bb9-9fc4-015a9ef67b02"
      },
      "execution_count": 57,
      "outputs": [
        {
          "output_type": "stream",
          "name": "stdout",
          "text": [
            "processing items2.csv\n",
            "processing items1.csv\n",
            "processing items3.csv\n"
          ]
        }
      ]
    },
    {
      "cell_type": "code",
      "source": [
        "print(f'washing machines: {washing_machines_count}')\n",
        "print(f'usb sticks: {usb_memory_count}')"
      ],
      "metadata": {
        "colab": {
          "base_uri": "https://localhost:8080/"
        },
        "id": "Z_AYkHnqJQKz",
        "outputId": "0aa0b26d-9f1b-4562-dfdb-61d5d4ab747a"
      },
      "execution_count": 58,
      "outputs": [
        {
          "output_type": "stream",
          "name": "stdout",
          "text": [
            "washing machines: 75\n",
            "usb sticks: 80\n"
          ]
        }
      ]
    },
    {
      "cell_type": "markdown",
      "source": [
        "# Write Excel\n",
        "- create 2 columns - 'Type' and 'Count'\n",
        "- insert 2 rows - Machines and it's count, USBs and it's count"
      ],
      "metadata": {
        "id": "PJSYAHQsS3Qt"
      }
    },
    {
      "cell_type": "code",
      "source": [
        "item_counts = [\n",
        "    ['Machines', washing_machines_count], \n",
        "    ['USBs', usb_memory_count]\n",
        "]\n",
        "output = pd.DataFrame(item_counts, columns=['Type', 'Count'])\n",
        "output.to_excel('counts.xlsx', index=False)"
      ],
      "metadata": {
        "id": "pFVBhaPlJzXD"
      },
      "execution_count": 60,
      "outputs": []
    },
    {
      "cell_type": "markdown",
      "source": [
        "# Send email\n",
        "- Read Excel file we've jst created\n",
        "- Send data as email (from Gmail)"
      ],
      "metadata": {
        "id": "MDIFj59GLy3p"
      }
    },
    {
      "cell_type": "code",
      "source": [
        "excel = pd.read_excel('counts.xlsx')\n",
        "excel.head()"
      ],
      "metadata": {
        "colab": {
          "base_uri": "https://localhost:8080/",
          "height": 112
        },
        "id": "szNDFsFZRXa7",
        "outputId": "109ff908-b3d2-4a9e-d61f-ea4cfb753d8f"
      },
      "execution_count": 64,
      "outputs": [
        {
          "output_type": "execute_result",
          "data": {
            "text/plain": [
              "       Type  Count\n",
              "0  Machines     75\n",
              "1      USBs     80"
            ],
            "text/html": [
              "\n",
              "  <div id=\"df-3bfb80b3-ad33-4097-bc01-77ec4818eccb\">\n",
              "    <div class=\"colab-df-container\">\n",
              "      <div>\n",
              "<style scoped>\n",
              "    .dataframe tbody tr th:only-of-type {\n",
              "        vertical-align: middle;\n",
              "    }\n",
              "\n",
              "    .dataframe tbody tr th {\n",
              "        vertical-align: top;\n",
              "    }\n",
              "\n",
              "    .dataframe thead th {\n",
              "        text-align: right;\n",
              "    }\n",
              "</style>\n",
              "<table border=\"1\" class=\"dataframe\">\n",
              "  <thead>\n",
              "    <tr style=\"text-align: right;\">\n",
              "      <th></th>\n",
              "      <th>Type</th>\n",
              "      <th>Count</th>\n",
              "    </tr>\n",
              "  </thead>\n",
              "  <tbody>\n",
              "    <tr>\n",
              "      <th>0</th>\n",
              "      <td>Machines</td>\n",
              "      <td>75</td>\n",
              "    </tr>\n",
              "    <tr>\n",
              "      <th>1</th>\n",
              "      <td>USBs</td>\n",
              "      <td>80</td>\n",
              "    </tr>\n",
              "  </tbody>\n",
              "</table>\n",
              "</div>\n",
              "      <button class=\"colab-df-convert\" onclick=\"convertToInteractive('df-3bfb80b3-ad33-4097-bc01-77ec4818eccb')\"\n",
              "              title=\"Convert this dataframe to an interactive table.\"\n",
              "              style=\"display:none;\">\n",
              "        \n",
              "  <svg xmlns=\"http://www.w3.org/2000/svg\" height=\"24px\"viewBox=\"0 0 24 24\"\n",
              "       width=\"24px\">\n",
              "    <path d=\"M0 0h24v24H0V0z\" fill=\"none\"/>\n",
              "    <path d=\"M18.56 5.44l.94 2.06.94-2.06 2.06-.94-2.06-.94-.94-2.06-.94 2.06-2.06.94zm-11 1L8.5 8.5l.94-2.06 2.06-.94-2.06-.94L8.5 2.5l-.94 2.06-2.06.94zm10 10l.94 2.06.94-2.06 2.06-.94-2.06-.94-.94-2.06-.94 2.06-2.06.94z\"/><path d=\"M17.41 7.96l-1.37-1.37c-.4-.4-.92-.59-1.43-.59-.52 0-1.04.2-1.43.59L10.3 9.45l-7.72 7.72c-.78.78-.78 2.05 0 2.83L4 21.41c.39.39.9.59 1.41.59.51 0 1.02-.2 1.41-.59l7.78-7.78 2.81-2.81c.8-.78.8-2.07 0-2.86zM5.41 20L4 18.59l7.72-7.72 1.47 1.35L5.41 20z\"/>\n",
              "  </svg>\n",
              "      </button>\n",
              "      \n",
              "  <style>\n",
              "    .colab-df-container {\n",
              "      display:flex;\n",
              "      flex-wrap:wrap;\n",
              "      gap: 12px;\n",
              "    }\n",
              "\n",
              "    .colab-df-convert {\n",
              "      background-color: #E8F0FE;\n",
              "      border: none;\n",
              "      border-radius: 50%;\n",
              "      cursor: pointer;\n",
              "      display: none;\n",
              "      fill: #1967D2;\n",
              "      height: 32px;\n",
              "      padding: 0 0 0 0;\n",
              "      width: 32px;\n",
              "    }\n",
              "\n",
              "    .colab-df-convert:hover {\n",
              "      background-color: #E2EBFA;\n",
              "      box-shadow: 0px 1px 2px rgba(60, 64, 67, 0.3), 0px 1px 3px 1px rgba(60, 64, 67, 0.15);\n",
              "      fill: #174EA6;\n",
              "    }\n",
              "\n",
              "    [theme=dark] .colab-df-convert {\n",
              "      background-color: #3B4455;\n",
              "      fill: #D2E3FC;\n",
              "    }\n",
              "\n",
              "    [theme=dark] .colab-df-convert:hover {\n",
              "      background-color: #434B5C;\n",
              "      box-shadow: 0px 1px 3px 1px rgba(0, 0, 0, 0.15);\n",
              "      filter: drop-shadow(0px 1px 2px rgba(0, 0, 0, 0.3));\n",
              "      fill: #FFFFFF;\n",
              "    }\n",
              "  </style>\n",
              "\n",
              "      <script>\n",
              "        const buttonEl =\n",
              "          document.querySelector('#df-3bfb80b3-ad33-4097-bc01-77ec4818eccb button.colab-df-convert');\n",
              "        buttonEl.style.display =\n",
              "          google.colab.kernel.accessAllowed ? 'block' : 'none';\n",
              "\n",
              "        async function convertToInteractive(key) {\n",
              "          const element = document.querySelector('#df-3bfb80b3-ad33-4097-bc01-77ec4818eccb');\n",
              "          const dataTable =\n",
              "            await google.colab.kernel.invokeFunction('convertToInteractive',\n",
              "                                                     [key], {});\n",
              "          if (!dataTable) return;\n",
              "\n",
              "          const docLinkHtml = 'Like what you see? Visit the ' +\n",
              "            '<a target=\"_blank\" href=https://colab.research.google.com/notebooks/data_table.ipynb>data table notebook</a>'\n",
              "            + ' to learn more about interactive tables.';\n",
              "          element.innerHTML = '';\n",
              "          dataTable['output_type'] = 'display_data';\n",
              "          await google.colab.output.renderOutput(dataTable, element);\n",
              "          const docLink = document.createElement('div');\n",
              "          docLink.innerHTML = docLinkHtml;\n",
              "          element.appendChild(docLink);\n",
              "        }\n",
              "      </script>\n",
              "    </div>\n",
              "  </div>\n",
              "  "
            ]
          },
          "metadata": {},
          "execution_count": 64
        }
      ]
    },
    {
      "cell_type": "code",
      "source": [
        "import smtplib\n",
        "\n",
        "fromaddr = 'anthony@gmail.com'\n",
        "toaddrs  = 'john.doe@gmail.com'\n",
        "msg = f'''\n",
        "Please, check the inventory:\n",
        "\n",
        "Machines: {int(excel[excel.Type == 'Machines'].Count)}\n",
        "USBs: {int(excel[excel.Type == 'USBs'].Count)}\n",
        "\n",
        "Yours, ACME\n",
        "'''\n",
        "print(msg)\n",
        "\n",
        "server = smtplib.SMTP('smtp.gmail.com:587')\n",
        "server.starttls()\n",
        "server.login('username@gmail.com', 'password')\n",
        "server.sendmail(fromaddr, toaddrs, msg)\n",
        "server.quit()"
      ],
      "metadata": {
        "colab": {
          "base_uri": "https://localhost:8080/"
        },
        "id": "debKKoU4LyIO",
        "outputId": "7e46c8e6-b2e2-4262-fcea-e13502cef496"
      },
      "execution_count": 73,
      "outputs": [
        {
          "output_type": "stream",
          "name": "stdout",
          "text": [
            "\n",
            "Please, check the inventory:\n",
            "\n",
            "Machines: 75\n",
            "USBs: 80\n",
            "\n",
            "Yours, ACME\n",
            "\n"
          ]
        }
      ]
    }
  ]
}